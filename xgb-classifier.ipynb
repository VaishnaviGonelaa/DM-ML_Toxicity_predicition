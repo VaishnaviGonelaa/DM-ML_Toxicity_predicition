{
 "cells": [
  {
   "cell_type": "code",
   "execution_count": 1,
   "id": "confident-aruba",
   "metadata": {
    "_cell_guid": "b1076dfc-b9ad-4769-8c92-a6c4dae69d19",
    "_uuid": "8f2839f25d086af736a60e9eeb907d3b93b6e0e5",
    "execution": {
     "iopub.execute_input": "2021-04-12T14:16:33.969199Z",
     "iopub.status.busy": "2021-04-12T14:16:33.968420Z",
     "iopub.status.idle": "2021-04-12T14:16:33.975356Z",
     "shell.execute_reply": "2021-04-12T14:16:33.974414Z"
    },
    "papermill": {
     "duration": 0.04529,
     "end_time": "2021-04-12T14:16:33.975609",
     "exception": false,
     "start_time": "2021-04-12T14:16:33.930319",
     "status": "completed"
    },
    "tags": []
   },
   "outputs": [
    {
     "name": "stdout",
     "output_type": "stream",
     "text": [
      "/kaggle/input/the-toxicity-prediction-challenge/sample_submission.csv\n",
      "/kaggle/input/the-toxicity-prediction-challenge/feamat.csv\n",
      "/kaggle/input/the-toxicity-prediction-challenge/features_id_name_mappings.csv\n",
      "/kaggle/input/the-toxicity-prediction-challenge/train.csv\n",
      "/kaggle/input/the-toxicity-prediction-challenge/test.csv\n"
     ]
    }
   ],
   "source": [
    "# This Python 3 environment comes with many helpful analytics libraries installed\n",
    "# It is defined by the kaggle/python Docker image: https://github.com/kaggle/docker-python\n",
    "# For example, here's several helpful packages to load\n",
    "\n",
    "import numpy as np # linear algebra\n",
    "import pandas as pd # data processing, CSV file I/O (e.g. pd.read_csv)\n",
    "\n",
    "# Input data files are available in the read-only \"../input/\" directory\n",
    "# For example, running this (by clicking run or pressing Shift+Enter) will list all files under the input directory\n",
    "\n",
    "import os\n",
    "for dirname, _, filenames in os.walk('/kaggle/input'):\n",
    "    for filename in filenames:\n",
    "        print(os.path.join(dirname, filename))\n",
    "\n",
    "# You can write up to 20GB to the current directory (/kaggle/working/) that gets preserved as output when you create a version using \"Save & Run All\" \n",
    "# You can also write temporary files to /kaggle/temp/, but they won't be saved outside of the current session"
   ]
  },
  {
   "cell_type": "code",
   "execution_count": 2,
   "id": "swiss-amazon",
   "metadata": {
    "execution": {
     "iopub.execute_input": "2021-04-12T14:16:34.042210Z",
     "iopub.status.busy": "2021-04-12T14:16:34.041495Z",
     "iopub.status.idle": "2021-04-12T14:16:35.477323Z",
     "shell.execute_reply": "2021-04-12T14:16:35.476756Z"
    },
    "papermill": {
     "duration": 1.470816,
     "end_time": "2021-04-12T14:16:35.477552",
     "exception": false,
     "start_time": "2021-04-12T14:16:34.006736",
     "status": "completed"
    },
    "tags": []
   },
   "outputs": [],
   "source": [
    "#Loading and reading required files\n",
    "train_data = pd.read_csv('/kaggle/input/the-toxicity-prediction-challenge/train.csv')\n",
    "test_data = pd.read_csv('/kaggle/input/the-toxicity-prediction-challenge/test.csv')\n",
    "feature_data = pd.read_csv('/kaggle/input/the-toxicity-prediction-challenge/feamat.csv')"
   ]
  },
  {
   "cell_type": "code",
   "execution_count": 3,
   "id": "foster-insert",
   "metadata": {
    "execution": {
     "iopub.execute_input": "2021-04-12T14:16:35.551805Z",
     "iopub.status.busy": "2021-04-12T14:16:35.550774Z",
     "iopub.status.idle": "2021-04-12T14:16:35.567753Z",
     "shell.execute_reply": "2021-04-12T14:16:35.568208Z"
    },
    "papermill": {
     "duration": 0.060531,
     "end_time": "2021-04-12T14:16:35.568387",
     "exception": false,
     "start_time": "2021-04-12T14:16:35.507856",
     "status": "completed"
    },
    "tags": []
   },
   "outputs": [
    {
     "data": {
      "text/html": [
       "<div>\n",
       "<style scoped>\n",
       "    .dataframe tbody tr th:only-of-type {\n",
       "        vertical-align: middle;\n",
       "    }\n",
       "\n",
       "    .dataframe tbody tr th {\n",
       "        vertical-align: top;\n",
       "    }\n",
       "\n",
       "    .dataframe thead th {\n",
       "        text-align: right;\n",
       "    }\n",
       "</style>\n",
       "<table border=\"1\" class=\"dataframe\">\n",
       "  <thead>\n",
       "    <tr style=\"text-align: right;\">\n",
       "      <th></th>\n",
       "      <th>Id</th>\n",
       "      <th>Expected</th>\n",
       "    </tr>\n",
       "  </thead>\n",
       "  <tbody>\n",
       "    <tr>\n",
       "      <th>0</th>\n",
       "      <td>2971-36-0;1644</td>\n",
       "      <td>2</td>\n",
       "    </tr>\n",
       "    <tr>\n",
       "      <th>1</th>\n",
       "      <td>693-54-9;2451</td>\n",
       "      <td>2</td>\n",
       "    </tr>\n",
       "    <tr>\n",
       "      <th>2</th>\n",
       "      <td>7173-51-5;1384</td>\n",
       "      <td>2</td>\n",
       "    </tr>\n",
       "    <tr>\n",
       "      <th>3</th>\n",
       "      <td>138261-41-3;16</td>\n",
       "      <td>2</td>\n",
       "    </tr>\n",
       "    <tr>\n",
       "      <th>4</th>\n",
       "      <td>7681-82-5;1856</td>\n",
       "      <td>2</td>\n",
       "    </tr>\n",
       "  </tbody>\n",
       "</table>\n",
       "</div>"
      ],
      "text/plain": [
       "               Id  Expected\n",
       "0  2971-36-0;1644         2\n",
       "1   693-54-9;2451         2\n",
       "2  7173-51-5;1384         2\n",
       "3  138261-41-3;16         2\n",
       "4  7681-82-5;1856         2"
      ]
     },
     "execution_count": 3,
     "metadata": {},
     "output_type": "execute_result"
    }
   ],
   "source": [
    "train_data.head()"
   ]
  },
  {
   "cell_type": "code",
   "execution_count": 4,
   "id": "miniature-eugene",
   "metadata": {
    "execution": {
     "iopub.execute_input": "2021-04-12T14:16:35.637485Z",
     "iopub.status.busy": "2021-04-12T14:16:35.636312Z",
     "iopub.status.idle": "2021-04-12T14:16:35.641893Z",
     "shell.execute_reply": "2021-04-12T14:16:35.641238Z"
    },
    "papermill": {
     "duration": 0.044657,
     "end_time": "2021-04-12T14:16:35.642058",
     "exception": false,
     "start_time": "2021-04-12T14:16:35.597401",
     "status": "completed"
    },
    "tags": []
   },
   "outputs": [
    {
     "data": {
      "text/html": [
       "<div>\n",
       "<style scoped>\n",
       "    .dataframe tbody tr th:only-of-type {\n",
       "        vertical-align: middle;\n",
       "    }\n",
       "\n",
       "    .dataframe tbody tr th {\n",
       "        vertical-align: top;\n",
       "    }\n",
       "\n",
       "    .dataframe thead th {\n",
       "        text-align: right;\n",
       "    }\n",
       "</style>\n",
       "<table border=\"1\" class=\"dataframe\">\n",
       "  <thead>\n",
       "    <tr style=\"text-align: right;\">\n",
       "      <th></th>\n",
       "      <th>Id</th>\n",
       "    </tr>\n",
       "  </thead>\n",
       "  <tbody>\n",
       "    <tr>\n",
       "      <th>0</th>\n",
       "      <td>88-60-8;1682</td>\n",
       "    </tr>\n",
       "    <tr>\n",
       "      <th>1</th>\n",
       "      <td>122931-48-0;1656</td>\n",
       "    </tr>\n",
       "    <tr>\n",
       "      <th>2</th>\n",
       "      <td>NOCAS_47311;36</td>\n",
       "    </tr>\n",
       "    <tr>\n",
       "      <th>3</th>\n",
       "      <td>55589-62-3;1850</td>\n",
       "    </tr>\n",
       "    <tr>\n",
       "      <th>4</th>\n",
       "      <td>79902-63-9;30</td>\n",
       "    </tr>\n",
       "  </tbody>\n",
       "</table>\n",
       "</div>"
      ],
      "text/plain": [
       "                 Id\n",
       "0      88-60-8;1682\n",
       "1  122931-48-0;1656\n",
       "2    NOCAS_47311;36\n",
       "3   55589-62-3;1850\n",
       "4     79902-63-9;30"
      ]
     },
     "execution_count": 4,
     "metadata": {},
     "output_type": "execute_result"
    }
   ],
   "source": [
    "#Renaming the x column as Id in test dataset\n",
    "test_data = test_data.rename(columns = {\"x\": \"Id\"})\n",
    "test_data.head()"
   ]
  },
  {
   "cell_type": "code",
   "execution_count": 5,
   "id": "living-probability",
   "metadata": {
    "execution": {
     "iopub.execute_input": "2021-04-12T14:16:35.726882Z",
     "iopub.status.busy": "2021-04-12T14:16:35.726186Z",
     "iopub.status.idle": "2021-04-12T14:16:36.004233Z",
     "shell.execute_reply": "2021-04-12T14:16:36.004808Z"
    },
    "papermill": {
     "duration": 0.333178,
     "end_time": "2021-04-12T14:16:36.005009",
     "exception": false,
     "start_time": "2021-04-12T14:16:35.671831",
     "status": "completed"
    },
    "tags": []
   },
   "outputs": [
    {
     "data": {
      "text/html": [
       "<div>\n",
       "<style scoped>\n",
       "    .dataframe tbody tr th:only-of-type {\n",
       "        vertical-align: middle;\n",
       "    }\n",
       "\n",
       "    .dataframe tbody tr th {\n",
       "        vertical-align: top;\n",
       "    }\n",
       "\n",
       "    .dataframe thead th {\n",
       "        text-align: right;\n",
       "    }\n",
       "</style>\n",
       "<table border=\"1\" class=\"dataframe\">\n",
       "  <thead>\n",
       "    <tr style=\"text-align: right;\">\n",
       "      <th></th>\n",
       "      <th>Id</th>\n",
       "      <th>Expected</th>\n",
       "      <th>Chemical_Id</th>\n",
       "      <th>Assay_Id</th>\n",
       "    </tr>\n",
       "  </thead>\n",
       "  <tbody>\n",
       "    <tr>\n",
       "      <th>0</th>\n",
       "      <td>2971-36-0;1644</td>\n",
       "      <td>2</td>\n",
       "      <td>2971-36-0</td>\n",
       "      <td>1644</td>\n",
       "    </tr>\n",
       "    <tr>\n",
       "      <th>1</th>\n",
       "      <td>693-54-9;2451</td>\n",
       "      <td>2</td>\n",
       "      <td>693-54-9</td>\n",
       "      <td>2451</td>\n",
       "    </tr>\n",
       "    <tr>\n",
       "      <th>2</th>\n",
       "      <td>7173-51-5;1384</td>\n",
       "      <td>2</td>\n",
       "      <td>7173-51-5</td>\n",
       "      <td>1384</td>\n",
       "    </tr>\n",
       "    <tr>\n",
       "      <th>3</th>\n",
       "      <td>138261-41-3;16</td>\n",
       "      <td>2</td>\n",
       "      <td>138261-41-3</td>\n",
       "      <td>16</td>\n",
       "    </tr>\n",
       "    <tr>\n",
       "      <th>4</th>\n",
       "      <td>7681-82-5;1856</td>\n",
       "      <td>2</td>\n",
       "      <td>7681-82-5</td>\n",
       "      <td>1856</td>\n",
       "    </tr>\n",
       "  </tbody>\n",
       "</table>\n",
       "</div>"
      ],
      "text/plain": [
       "               Id  Expected  Chemical_Id Assay_Id\n",
       "0  2971-36-0;1644         2    2971-36-0     1644\n",
       "1   693-54-9;2451         2     693-54-9     2451\n",
       "2  7173-51-5;1384         2    7173-51-5     1384\n",
       "3  138261-41-3;16         2  138261-41-3       16\n",
       "4  7681-82-5;1856         2    7681-82-5     1856"
      ]
     },
     "execution_count": 5,
     "metadata": {},
     "output_type": "execute_result"
    }
   ],
   "source": [
    "#Splitting Id into 2 separate columns\n",
    "train_data[[\"Chemical_Id\", \"Assay_Id\"]] = train_data.Id.str.split(\";\", expand = True)\n",
    "test_data[[\"Chemical_Id\", \"Assay_Id\"]] = test_data.Id.str.split(\";\", expand = True)\n",
    "train_data.head()"
   ]
  },
  {
   "cell_type": "code",
   "execution_count": 6,
   "id": "hydraulic-rolling",
   "metadata": {
    "execution": {
     "iopub.execute_input": "2021-04-12T14:16:36.078064Z",
     "iopub.status.busy": "2021-04-12T14:16:36.077079Z",
     "iopub.status.idle": "2021-04-12T14:16:36.081889Z",
     "shell.execute_reply": "2021-04-12T14:16:36.082429Z"
    },
    "papermill": {
     "duration": 0.047078,
     "end_time": "2021-04-12T14:16:36.082642",
     "exception": false,
     "start_time": "2021-04-12T14:16:36.035564",
     "status": "completed"
    },
    "tags": []
   },
   "outputs": [
    {
     "data": {
      "text/html": [
       "<div>\n",
       "<style scoped>\n",
       "    .dataframe tbody tr th:only-of-type {\n",
       "        vertical-align: middle;\n",
       "    }\n",
       "\n",
       "    .dataframe tbody tr th {\n",
       "        vertical-align: top;\n",
       "    }\n",
       "\n",
       "    .dataframe thead th {\n",
       "        text-align: right;\n",
       "    }\n",
       "</style>\n",
       "<table border=\"1\" class=\"dataframe\">\n",
       "  <thead>\n",
       "    <tr style=\"text-align: right;\">\n",
       "      <th></th>\n",
       "      <th>Id</th>\n",
       "      <th>Chemical_Id</th>\n",
       "      <th>Assay_Id</th>\n",
       "    </tr>\n",
       "  </thead>\n",
       "  <tbody>\n",
       "    <tr>\n",
       "      <th>0</th>\n",
       "      <td>88-60-8;1682</td>\n",
       "      <td>88-60-8</td>\n",
       "      <td>1682</td>\n",
       "    </tr>\n",
       "    <tr>\n",
       "      <th>1</th>\n",
       "      <td>122931-48-0;1656</td>\n",
       "      <td>122931-48-0</td>\n",
       "      <td>1656</td>\n",
       "    </tr>\n",
       "    <tr>\n",
       "      <th>2</th>\n",
       "      <td>NOCAS_47311;36</td>\n",
       "      <td>NOCAS_47311</td>\n",
       "      <td>36</td>\n",
       "    </tr>\n",
       "    <tr>\n",
       "      <th>3</th>\n",
       "      <td>55589-62-3;1850</td>\n",
       "      <td>55589-62-3</td>\n",
       "      <td>1850</td>\n",
       "    </tr>\n",
       "    <tr>\n",
       "      <th>4</th>\n",
       "      <td>79902-63-9;30</td>\n",
       "      <td>79902-63-9</td>\n",
       "      <td>30</td>\n",
       "    </tr>\n",
       "  </tbody>\n",
       "</table>\n",
       "</div>"
      ],
      "text/plain": [
       "                 Id  Chemical_Id Assay_Id\n",
       "0      88-60-8;1682      88-60-8     1682\n",
       "1  122931-48-0;1656  122931-48-0     1656\n",
       "2    NOCAS_47311;36  NOCAS_47311       36\n",
       "3   55589-62-3;1850   55589-62-3     1850\n",
       "4     79902-63-9;30   79902-63-9       30"
      ]
     },
     "execution_count": 6,
     "metadata": {},
     "output_type": "execute_result"
    }
   ],
   "source": [
    "test_data.head()"
   ]
  },
  {
   "cell_type": "code",
   "execution_count": 7,
   "id": "competent-history",
   "metadata": {
    "execution": {
     "iopub.execute_input": "2021-04-12T14:16:36.166366Z",
     "iopub.status.busy": "2021-04-12T14:16:36.150826Z",
     "iopub.status.idle": "2021-04-12T14:16:37.670828Z",
     "shell.execute_reply": "2021-04-12T14:16:37.670202Z"
    },
    "papermill": {
     "duration": 1.556772,
     "end_time": "2021-04-12T14:16:37.670975",
     "exception": false,
     "start_time": "2021-04-12T14:16:36.114203",
     "status": "completed"
    },
    "tags": []
   },
   "outputs": [],
   "source": [
    "#train_mapping = train_data.merge(feature_data, left_on = \"Id\", how = \"left\")\n",
    "train_mapping = pd.merge(train_data, feature_data, left_on = \"Chemical_Id\", right_on = \"V1\", how = \"left\")\n",
    "test_mapping = pd.merge(test_data, feature_data, left_on = \"Chemical_Id\", right_on = \"V1\", how = \"left\")"
   ]
  },
  {
   "cell_type": "code",
   "execution_count": 8,
   "id": "efficient-royalty",
   "metadata": {
    "execution": {
     "iopub.execute_input": "2021-04-12T14:16:37.740590Z",
     "iopub.status.busy": "2021-04-12T14:16:37.739260Z",
     "iopub.status.idle": "2021-04-12T14:16:38.592486Z",
     "shell.execute_reply": "2021-04-12T14:16:38.593071Z"
    },
    "papermill": {
     "duration": 0.89128,
     "end_time": "2021-04-12T14:16:38.593266",
     "exception": false,
     "start_time": "2021-04-12T14:16:37.701986",
     "status": "completed"
    },
    "tags": []
   },
   "outputs": [],
   "source": [
    "#Dropping V1 \n",
    "train_mapping.drop([\"V1\", \"Id\"], axis = 1, inplace = True)\n",
    "test_mapping.drop([\"V1\",\"Id\"], axis = 1, inplace = True)"
   ]
  },
  {
   "cell_type": "code",
   "execution_count": 9,
   "id": "australian-symposium",
   "metadata": {
    "execution": {
     "iopub.execute_input": "2021-04-12T14:16:38.663410Z",
     "iopub.status.busy": "2021-04-12T14:16:38.661919Z",
     "iopub.status.idle": "2021-04-12T14:16:38.806083Z",
     "shell.execute_reply": "2021-04-12T14:16:38.805364Z"
    },
    "papermill": {
     "duration": 0.181097,
     "end_time": "2021-04-12T14:16:38.806232",
     "exception": false,
     "start_time": "2021-04-12T14:16:38.625135",
     "status": "completed"
    },
    "tags": []
   },
   "outputs": [
    {
     "data": {
      "text/plain": [
       "Expected       0\n",
       "Chemical_Id    0\n",
       "Assay_Id       0\n",
       "V2             0\n",
       "V3             0\n",
       "              ..\n",
       "V1071          0\n",
       "V1072          0\n",
       "V1073          0\n",
       "V1074          0\n",
       "V1075          0\n",
       "Length: 1077, dtype: int64"
      ]
     },
     "execution_count": 9,
     "metadata": {},
     "output_type": "execute_result"
    }
   ],
   "source": [
    "train_mapping.isnull().sum()"
   ]
  },
  {
   "cell_type": "code",
   "execution_count": 10,
   "id": "dated-ultimate",
   "metadata": {
    "execution": {
     "iopub.execute_input": "2021-04-12T14:16:38.878109Z",
     "iopub.status.busy": "2021-04-12T14:16:38.877387Z",
     "iopub.status.idle": "2021-04-12T14:16:38.894500Z",
     "shell.execute_reply": "2021-04-12T14:16:38.893884Z"
    },
    "papermill": {
     "duration": 0.056363,
     "end_time": "2021-04-12T14:16:38.894646",
     "exception": false,
     "start_time": "2021-04-12T14:16:38.838283",
     "status": "completed"
    },
    "tags": []
   },
   "outputs": [
    {
     "data": {
      "text/plain": [
       "False"
      ]
     },
     "execution_count": 10,
     "metadata": {},
     "output_type": "execute_result"
    }
   ],
   "source": [
    "test_mapping.isnull().values.any()"
   ]
  },
  {
   "cell_type": "code",
   "execution_count": 11,
   "id": "honest-times",
   "metadata": {
    "execution": {
     "iopub.execute_input": "2021-04-12T14:16:38.965729Z",
     "iopub.status.busy": "2021-04-12T14:16:38.964961Z",
     "iopub.status.idle": "2021-04-12T14:16:38.968589Z",
     "shell.execute_reply": "2021-04-12T14:16:38.967952Z"
    },
    "papermill": {
     "duration": 0.041928,
     "end_time": "2021-04-12T14:16:38.968730",
     "exception": false,
     "start_time": "2021-04-12T14:16:38.926802",
     "status": "completed"
    },
    "tags": []
   },
   "outputs": [
    {
     "data": {
      "text/plain": [
       "((77413, 1077), (11139, 1076))"
      ]
     },
     "execution_count": 11,
     "metadata": {},
     "output_type": "execute_result"
    }
   ],
   "source": [
    "train_mapping.shape, test_mapping.shape"
   ]
  },
  {
   "cell_type": "code",
   "execution_count": 12,
   "id": "qualified-chicago",
   "metadata": {
    "execution": {
     "iopub.execute_input": "2021-04-12T14:16:39.247896Z",
     "iopub.status.busy": "2021-04-12T14:16:39.240117Z",
     "iopub.status.idle": "2021-04-12T14:16:39.251582Z",
     "shell.execute_reply": "2021-04-12T14:16:39.250891Z"
    },
    "papermill": {
     "duration": 0.250749,
     "end_time": "2021-04-12T14:16:39.251738",
     "exception": false,
     "start_time": "2021-04-12T14:16:39.000989",
     "status": "completed"
    },
    "tags": []
   },
   "outputs": [],
   "source": [
    "train_mapping = train_mapping.drop(\"Chemical_Id\", axis = 1)"
   ]
  },
  {
   "cell_type": "code",
   "execution_count": 13,
   "id": "dirty-motor",
   "metadata": {
    "execution": {
     "iopub.execute_input": "2021-04-12T14:16:39.342057Z",
     "iopub.status.busy": "2021-04-12T14:16:39.332336Z",
     "iopub.status.idle": "2021-04-12T14:16:39.349470Z",
     "shell.execute_reply": "2021-04-12T14:16:39.348762Z"
    },
    "papermill": {
     "duration": 0.064183,
     "end_time": "2021-04-12T14:16:39.349624",
     "exception": false,
     "start_time": "2021-04-12T14:16:39.285441",
     "status": "completed"
    },
    "tags": []
   },
   "outputs": [
    {
     "data": {
      "text/html": [
       "<div>\n",
       "<style scoped>\n",
       "    .dataframe tbody tr th:only-of-type {\n",
       "        vertical-align: middle;\n",
       "    }\n",
       "\n",
       "    .dataframe tbody tr th {\n",
       "        vertical-align: top;\n",
       "    }\n",
       "\n",
       "    .dataframe thead th {\n",
       "        text-align: right;\n",
       "    }\n",
       "</style>\n",
       "<table border=\"1\" class=\"dataframe\">\n",
       "  <thead>\n",
       "    <tr style=\"text-align: right;\">\n",
       "      <th></th>\n",
       "      <th>Expected</th>\n",
       "      <th>Assay_Id</th>\n",
       "      <th>V2</th>\n",
       "      <th>V3</th>\n",
       "      <th>V4</th>\n",
       "      <th>V5</th>\n",
       "      <th>V6</th>\n",
       "      <th>V7</th>\n",
       "      <th>V8</th>\n",
       "      <th>V9</th>\n",
       "      <th>...</th>\n",
       "      <th>V1066</th>\n",
       "      <th>V1067</th>\n",
       "      <th>V1068</th>\n",
       "      <th>V1069</th>\n",
       "      <th>V1070</th>\n",
       "      <th>V1071</th>\n",
       "      <th>V1072</th>\n",
       "      <th>V1073</th>\n",
       "      <th>V1074</th>\n",
       "      <th>V1075</th>\n",
       "    </tr>\n",
       "  </thead>\n",
       "  <tbody>\n",
       "    <tr>\n",
       "      <th>0</th>\n",
       "      <td>2</td>\n",
       "      <td>1644</td>\n",
       "      <td>76302</td>\n",
       "      <td>315.982463</td>\n",
       "      <td>4.592</td>\n",
       "      <td>40.46</td>\n",
       "      <td>0.0</td>\n",
       "      <td>0.0</td>\n",
       "      <td>0.000000</td>\n",
       "      <td>0.166667</td>\n",
       "      <td>...</td>\n",
       "      <td>0</td>\n",
       "      <td>0</td>\n",
       "      <td>0</td>\n",
       "      <td>0</td>\n",
       "      <td>0</td>\n",
       "      <td>0</td>\n",
       "      <td>0</td>\n",
       "      <td>0</td>\n",
       "      <td>0</td>\n",
       "      <td>0</td>\n",
       "    </tr>\n",
       "    <tr>\n",
       "      <th>1</th>\n",
       "      <td>2</td>\n",
       "      <td>2451</td>\n",
       "      <td>12741</td>\n",
       "      <td>156.151415</td>\n",
       "      <td>3.852</td>\n",
       "      <td>17.07</td>\n",
       "      <td>0.0</td>\n",
       "      <td>0.0</td>\n",
       "      <td>0.000000</td>\n",
       "      <td>0.000000</td>\n",
       "      <td>...</td>\n",
       "      <td>0</td>\n",
       "      <td>0</td>\n",
       "      <td>0</td>\n",
       "      <td>0</td>\n",
       "      <td>0</td>\n",
       "      <td>0</td>\n",
       "      <td>0</td>\n",
       "      <td>0</td>\n",
       "      <td>0</td>\n",
       "      <td>0</td>\n",
       "    </tr>\n",
       "    <tr>\n",
       "      <th>2</th>\n",
       "      <td>2</td>\n",
       "      <td>1384</td>\n",
       "      <td>23558</td>\n",
       "      <td>361.347528</td>\n",
       "      <td>9.912</td>\n",
       "      <td>0.00</td>\n",
       "      <td>0.0</td>\n",
       "      <td>0.0</td>\n",
       "      <td>0.000000</td>\n",
       "      <td>0.000000</td>\n",
       "      <td>...</td>\n",
       "      <td>0</td>\n",
       "      <td>0</td>\n",
       "      <td>0</td>\n",
       "      <td>0</td>\n",
       "      <td>0</td>\n",
       "      <td>0</td>\n",
       "      <td>0</td>\n",
       "      <td>0</td>\n",
       "      <td>0</td>\n",
       "      <td>0</td>\n",
       "    </tr>\n",
       "    <tr>\n",
       "      <th>3</th>\n",
       "      <td>2</td>\n",
       "      <td>16</td>\n",
       "      <td>86418</td>\n",
       "      <td>255.052302</td>\n",
       "      <td>2.294</td>\n",
       "      <td>83.66</td>\n",
       "      <td>0.0</td>\n",
       "      <td>0.0</td>\n",
       "      <td>0.117851</td>\n",
       "      <td>0.250000</td>\n",
       "      <td>...</td>\n",
       "      <td>0</td>\n",
       "      <td>0</td>\n",
       "      <td>0</td>\n",
       "      <td>0</td>\n",
       "      <td>0</td>\n",
       "      <td>0</td>\n",
       "      <td>0</td>\n",
       "      <td>0</td>\n",
       "      <td>0</td>\n",
       "      <td>0</td>\n",
       "    </tr>\n",
       "    <tr>\n",
       "      <th>4</th>\n",
       "      <td>2</td>\n",
       "      <td>1856</td>\n",
       "      <td>5238</td>\n",
       "      <td>149.894242</td>\n",
       "      <td>1.050</td>\n",
       "      <td>0.00</td>\n",
       "      <td>0.0</td>\n",
       "      <td>0.0</td>\n",
       "      <td>0.000000</td>\n",
       "      <td>0.000000</td>\n",
       "      <td>...</td>\n",
       "      <td>0</td>\n",
       "      <td>0</td>\n",
       "      <td>0</td>\n",
       "      <td>0</td>\n",
       "      <td>0</td>\n",
       "      <td>0</td>\n",
       "      <td>0</td>\n",
       "      <td>0</td>\n",
       "      <td>0</td>\n",
       "      <td>0</td>\n",
       "    </tr>\n",
       "  </tbody>\n",
       "</table>\n",
       "<p>5 rows × 1076 columns</p>\n",
       "</div>"
      ],
      "text/plain": [
       "   Expected Assay_Id     V2          V3     V4     V5   V6   V7        V8  \\\n",
       "0         2     1644  76302  315.982463  4.592  40.46  0.0  0.0  0.000000   \n",
       "1         2     2451  12741  156.151415  3.852  17.07  0.0  0.0  0.000000   \n",
       "2         2     1384  23558  361.347528  9.912   0.00  0.0  0.0  0.000000   \n",
       "3         2       16  86418  255.052302  2.294  83.66  0.0  0.0  0.117851   \n",
       "4         2     1856   5238  149.894242  1.050   0.00  0.0  0.0  0.000000   \n",
       "\n",
       "         V9  ...  V1066  V1067  V1068  V1069  V1070  V1071  V1072  V1073  \\\n",
       "0  0.166667  ...      0      0      0      0      0      0      0      0   \n",
       "1  0.000000  ...      0      0      0      0      0      0      0      0   \n",
       "2  0.000000  ...      0      0      0      0      0      0      0      0   \n",
       "3  0.250000  ...      0      0      0      0      0      0      0      0   \n",
       "4  0.000000  ...      0      0      0      0      0      0      0      0   \n",
       "\n",
       "   V1074  V1075  \n",
       "0      0      0  \n",
       "1      0      0  \n",
       "2      0      0  \n",
       "3      0      0  \n",
       "4      0      0  \n",
       "\n",
       "[5 rows x 1076 columns]"
      ]
     },
     "execution_count": 13,
     "metadata": {},
     "output_type": "execute_result"
    }
   ],
   "source": [
    "train_mapping.head()"
   ]
  },
  {
   "cell_type": "code",
   "execution_count": 14,
   "id": "configured-parker",
   "metadata": {
    "execution": {
     "iopub.execute_input": "2021-04-12T14:16:39.430899Z",
     "iopub.status.busy": "2021-04-12T14:16:39.430206Z",
     "iopub.status.idle": "2021-04-12T14:16:39.453703Z",
     "shell.execute_reply": "2021-04-12T14:16:39.453020Z"
    },
    "papermill": {
     "duration": 0.070541,
     "end_time": "2021-04-12T14:16:39.453859",
     "exception": false,
     "start_time": "2021-04-12T14:16:39.383318",
     "status": "completed"
    },
    "tags": []
   },
   "outputs": [],
   "source": [
    "train_mapping.replace([np.inf,-np.inf], np.nan,inplace=True)"
   ]
  },
  {
   "cell_type": "code",
   "execution_count": 15,
   "id": "generous-program",
   "metadata": {
    "execution": {
     "iopub.execute_input": "2021-04-12T14:16:39.533503Z",
     "iopub.status.busy": "2021-04-12T14:16:39.532811Z",
     "iopub.status.idle": "2021-04-12T14:16:39.538963Z",
     "shell.execute_reply": "2021-04-12T14:16:39.538289Z"
    },
    "papermill": {
     "duration": 0.051386,
     "end_time": "2021-04-12T14:16:39.539118",
     "exception": false,
     "start_time": "2021-04-12T14:16:39.487732",
     "status": "completed"
    },
    "tags": []
   },
   "outputs": [],
   "source": [
    "test_mapping.replace([np.inf,-np.inf],np.nan,inplace=True)"
   ]
  },
  {
   "cell_type": "code",
   "execution_count": 16,
   "id": "western-publication",
   "metadata": {
    "execution": {
     "iopub.execute_input": "2021-04-12T14:16:39.616066Z",
     "iopub.status.busy": "2021-04-12T14:16:39.615360Z",
     "iopub.status.idle": "2021-04-12T14:16:40.329911Z",
     "shell.execute_reply": "2021-04-12T14:16:40.329196Z"
    },
    "papermill": {
     "duration": 0.756935,
     "end_time": "2021-04-12T14:16:40.330066",
     "exception": false,
     "start_time": "2021-04-12T14:16:39.573131",
     "status": "completed"
    },
    "tags": []
   },
   "outputs": [],
   "source": [
    "train_mapping.fillna(train_mapping.mean(), inplace=True)"
   ]
  },
  {
   "cell_type": "code",
   "execution_count": 17,
   "id": "timely-socket",
   "metadata": {
    "execution": {
     "iopub.execute_input": "2021-04-12T14:16:40.408824Z",
     "iopub.status.busy": "2021-04-12T14:16:40.408073Z",
     "iopub.status.idle": "2021-04-12T14:16:41.104474Z",
     "shell.execute_reply": "2021-04-12T14:16:41.103807Z"
    },
    "papermill": {
     "duration": 0.739687,
     "end_time": "2021-04-12T14:16:41.104629",
     "exception": false,
     "start_time": "2021-04-12T14:16:40.364942",
     "status": "completed"
    },
    "tags": []
   },
   "outputs": [],
   "source": [
    "test_mapping.fillna(train_mapping.mean(), inplace=True)"
   ]
  },
  {
   "cell_type": "code",
   "execution_count": 18,
   "id": "waiting-calvin",
   "metadata": {
    "execution": {
     "iopub.execute_input": "2021-04-12T14:16:41.198741Z",
     "iopub.status.busy": "2021-04-12T14:16:41.193468Z",
     "iopub.status.idle": "2021-04-12T14:16:41.212907Z",
     "shell.execute_reply": "2021-04-12T14:16:41.212287Z"
    },
    "papermill": {
     "duration": 0.074218,
     "end_time": "2021-04-12T14:16:41.213092",
     "exception": false,
     "start_time": "2021-04-12T14:16:41.138874",
     "status": "completed"
    },
    "tags": []
   },
   "outputs": [
    {
     "name": "stdout",
     "output_type": "stream",
     "text": [
      "<class 'pandas.core.frame.DataFrame'>\n",
      "Int64Index: 11139 entries, 0 to 11138\n",
      "Columns: 1076 entries, Chemical_Id to V1075\n",
      "dtypes: float64(20), int64(1054), object(2)\n",
      "memory usage: 91.5+ MB\n"
     ]
    }
   ],
   "source": [
    "test_mapping.info()"
   ]
  },
  {
   "cell_type": "code",
   "execution_count": 19,
   "id": "liable-examination",
   "metadata": {
    "execution": {
     "iopub.execute_input": "2021-04-12T14:16:41.292747Z",
     "iopub.status.busy": "2021-04-12T14:16:41.291995Z",
     "iopub.status.idle": "2021-04-12T14:16:41.296329Z",
     "shell.execute_reply": "2021-04-12T14:16:41.295654Z"
    },
    "papermill": {
     "duration": 0.047552,
     "end_time": "2021-04-12T14:16:41.296497",
     "exception": false,
     "start_time": "2021-04-12T14:16:41.248945",
     "status": "completed"
    },
    "tags": []
   },
   "outputs": [
    {
     "name": "stdout",
     "output_type": "stream",
     "text": [
      "Chemical_Id     object\n",
      "Assay_Id        object\n",
      "V2               int64\n",
      "V3             float64\n",
      "V4             float64\n",
      "                ...   \n",
      "V1071            int64\n",
      "V1072            int64\n",
      "V1073            int64\n",
      "V1074            int64\n",
      "V1075            int64\n",
      "Length: 1076, dtype: object\n"
     ]
    }
   ],
   "source": [
    "print(test_mapping.dtypes)"
   ]
  },
  {
   "cell_type": "code",
   "execution_count": 20,
   "id": "renewable-banner",
   "metadata": {
    "execution": {
     "iopub.execute_input": "2021-04-12T14:16:41.580429Z",
     "iopub.status.busy": "2021-04-12T14:16:41.376404Z",
     "iopub.status.idle": "2021-04-12T14:16:41.624046Z",
     "shell.execute_reply": "2021-04-12T14:16:41.623471Z"
    },
    "papermill": {
     "duration": 0.292364,
     "end_time": "2021-04-12T14:16:41.624204",
     "exception": false,
     "start_time": "2021-04-12T14:16:41.331840",
     "status": "completed"
    },
    "tags": []
   },
   "outputs": [
    {
     "data": {
      "text/plain": [
       "((77413, 1075), (77413,), (11139, 1075))"
      ]
     },
     "execution_count": 20,
     "metadata": {},
     "output_type": "execute_result"
    }
   ],
   "source": [
    "X_train = train_mapping.drop(\"Expected\", axis = 1)\n",
    "Y_train = train_mapping[\"Expected\"]\n",
    "X_test  = test_mapping.drop(\"Chemical_Id\", axis=1)\n",
    "\n",
    "X_train.shape, Y_train.shape, X_test.shape"
   ]
  },
  {
   "cell_type": "code",
   "execution_count": 21,
   "id": "sunrise-absorption",
   "metadata": {
    "execution": {
     "iopub.execute_input": "2021-04-12T14:16:41.721003Z",
     "iopub.status.busy": "2021-04-12T14:16:41.719732Z",
     "iopub.status.idle": "2021-04-12T14:16:41.727808Z",
     "shell.execute_reply": "2021-04-12T14:16:41.727043Z"
    },
    "papermill": {
     "duration": 0.066702,
     "end_time": "2021-04-12T14:16:41.727979",
     "exception": false,
     "start_time": "2021-04-12T14:16:41.661277",
     "status": "completed"
    },
    "tags": []
   },
   "outputs": [],
   "source": [
    "X_train[\"Assay_Id\"]=X_train[\"Assay_Id\"].astype(str).astype(float)"
   ]
  },
  {
   "cell_type": "code",
   "execution_count": 22,
   "id": "occupied-european",
   "metadata": {
    "execution": {
     "iopub.execute_input": "2021-04-12T14:16:41.805647Z",
     "iopub.status.busy": "2021-04-12T14:16:41.804880Z",
     "iopub.status.idle": "2021-04-12T14:16:41.807829Z",
     "shell.execute_reply": "2021-04-12T14:16:41.807247Z"
    },
    "papermill": {
     "duration": 0.044213,
     "end_time": "2021-04-12T14:16:41.807982",
     "exception": false,
     "start_time": "2021-04-12T14:16:41.763769",
     "status": "completed"
    },
    "tags": []
   },
   "outputs": [],
   "source": [
    "#X_train[\"Assay_Id\"]=X_train[\"Assay_Id\"].astype(float).astype(int)"
   ]
  },
  {
   "cell_type": "code",
   "execution_count": 23,
   "id": "optional-failure",
   "metadata": {
    "execution": {
     "iopub.execute_input": "2021-04-12T14:16:41.885198Z",
     "iopub.status.busy": "2021-04-12T14:16:41.884504Z",
     "iopub.status.idle": "2021-04-12T14:16:41.892586Z",
     "shell.execute_reply": "2021-04-12T14:16:41.893167Z"
    },
    "papermill": {
     "duration": 0.047805,
     "end_time": "2021-04-12T14:16:41.893345",
     "exception": false,
     "start_time": "2021-04-12T14:16:41.845540",
     "status": "completed"
    },
    "tags": []
   },
   "outputs": [],
   "source": [
    "X_test[\"Assay_Id\"]=X_test[\"Assay_Id\"].astype(str).astype(float)"
   ]
  },
  {
   "cell_type": "code",
   "execution_count": 24,
   "id": "plastic-chassis",
   "metadata": {
    "execution": {
     "iopub.execute_input": "2021-04-12T14:16:41.971143Z",
     "iopub.status.busy": "2021-04-12T14:16:41.970300Z",
     "iopub.status.idle": "2021-04-12T14:16:41.973677Z",
     "shell.execute_reply": "2021-04-12T14:16:41.973149Z"
    },
    "papermill": {
     "duration": 0.043862,
     "end_time": "2021-04-12T14:16:41.973827",
     "exception": false,
     "start_time": "2021-04-12T14:16:41.929965",
     "status": "completed"
    },
    "tags": []
   },
   "outputs": [],
   "source": [
    "#X_test[\"Assay_Id\"]=X_test[\"Assay_Id\"].astype(float).astype(int)"
   ]
  },
  {
   "cell_type": "code",
   "execution_count": 25,
   "id": "promotional-disaster",
   "metadata": {
    "execution": {
     "iopub.execute_input": "2021-04-12T14:16:42.053069Z",
     "iopub.status.busy": "2021-04-12T14:16:42.052265Z",
     "iopub.status.idle": "2021-04-12T14:16:44.725921Z",
     "shell.execute_reply": "2021-04-12T14:16:44.724971Z"
    },
    "papermill": {
     "duration": 2.715431,
     "end_time": "2021-04-12T14:16:44.726081",
     "exception": false,
     "start_time": "2021-04-12T14:16:42.010650",
     "status": "completed"
    },
    "tags": []
   },
   "outputs": [
    {
     "data": {
      "text/plain": [
       "VarianceThreshold(threshold=0.214)"
      ]
     },
     "execution_count": 25,
     "metadata": {},
     "output_type": "execute_result"
    }
   ],
   "source": [
    "from sklearn.feature_selection import VarianceThreshold#\n",
    "var_thres=VarianceThreshold(threshold=0.214)\n",
    "var_thres.fit(X_train)"
   ]
  },
  {
   "cell_type": "code",
   "execution_count": 26,
   "id": "paperback-crystal",
   "metadata": {
    "execution": {
     "iopub.execute_input": "2021-04-12T14:16:44.809650Z",
     "iopub.status.busy": "2021-04-12T14:16:44.808716Z",
     "iopub.status.idle": "2021-04-12T14:16:44.814383Z",
     "shell.execute_reply": "2021-04-12T14:16:44.813621Z"
    },
    "papermill": {
     "duration": 0.051686,
     "end_time": "2021-04-12T14:16:44.814550",
     "exception": false,
     "start_time": "2021-04-12T14:16:44.762864",
     "status": "completed"
    },
    "tags": []
   },
   "outputs": [
    {
     "data": {
      "text/plain": [
       "134"
      ]
     },
     "execution_count": 26,
     "metadata": {},
     "output_type": "execute_result"
    }
   ],
   "source": [
    "sum(var_thres.get_support())"
   ]
  },
  {
   "cell_type": "code",
   "execution_count": 27,
   "id": "fewer-criminal",
   "metadata": {
    "execution": {
     "iopub.execute_input": "2021-04-12T14:16:44.893964Z",
     "iopub.status.busy": "2021-04-12T14:16:44.893161Z",
     "iopub.status.idle": "2021-04-12T14:16:44.897282Z",
     "shell.execute_reply": "2021-04-12T14:16:44.897896Z"
    },
    "papermill": {
     "duration": 0.046791,
     "end_time": "2021-04-12T14:16:44.898091",
     "exception": false,
     "start_time": "2021-04-12T14:16:44.851300",
     "status": "completed"
    },
    "tags": []
   },
   "outputs": [
    {
     "data": {
      "text/plain": [
       "134"
      ]
     },
     "execution_count": 27,
     "metadata": {},
     "output_type": "execute_result"
    }
   ],
   "source": [
    "len(X_train.columns[(var_thres.get_support())])"
   ]
  },
  {
   "cell_type": "code",
   "execution_count": 28,
   "id": "forced-intervention",
   "metadata": {
    "execution": {
     "iopub.execute_input": "2021-04-12T14:16:44.998379Z",
     "iopub.status.busy": "2021-04-12T14:16:44.996836Z",
     "iopub.status.idle": "2021-04-12T14:16:45.030105Z",
     "shell.execute_reply": "2021-04-12T14:16:45.029194Z"
    },
    "papermill": {
     "duration": 0.094826,
     "end_time": "2021-04-12T14:16:45.030297",
     "exception": false,
     "start_time": "2021-04-12T14:16:44.935471",
     "status": "completed"
    },
    "tags": []
   },
   "outputs": [
    {
     "name": "stdout",
     "output_type": "stream",
     "text": [
      "941\n"
     ]
    }
   ],
   "source": [
    "constant_columns= [column for column in X_train.columns\n",
    "                  if column not in X_train.columns[var_thres.get_support()]]\n",
    "print(len(constant_columns))"
   ]
  },
  {
   "cell_type": "code",
   "execution_count": 29,
   "id": "thirty-sussex",
   "metadata": {
    "execution": {
     "iopub.execute_input": "2021-04-12T14:16:45.142618Z",
     "iopub.status.busy": "2021-04-12T14:16:45.141840Z",
     "iopub.status.idle": "2021-04-12T14:16:45.150629Z",
     "shell.execute_reply": "2021-04-12T14:16:45.149922Z"
    },
    "papermill": {
     "duration": 0.081611,
     "end_time": "2021-04-12T14:16:45.150781",
     "exception": false,
     "start_time": "2021-04-12T14:16:45.069170",
     "status": "completed"
    },
    "tags": []
   },
   "outputs": [],
   "source": [
    "X_train=X_train.drop(constant_columns,axis=1)\n",
    "X_test=X_test.drop(constant_columns,axis=1)\n"
   ]
  },
  {
   "cell_type": "code",
   "execution_count": 30,
   "id": "atlantic-palestine",
   "metadata": {
    "execution": {
     "iopub.execute_input": "2021-04-12T14:16:45.246458Z",
     "iopub.status.busy": "2021-04-12T14:16:45.245410Z",
     "iopub.status.idle": "2021-04-12T14:16:45.249939Z",
     "shell.execute_reply": "2021-04-12T14:16:45.249066Z"
    },
    "papermill": {
     "duration": 0.061771,
     "end_time": "2021-04-12T14:16:45.250404",
     "exception": false,
     "start_time": "2021-04-12T14:16:45.188633",
     "status": "completed"
    },
    "tags": []
   },
   "outputs": [
    {
     "name": "stdout",
     "output_type": "stream",
     "text": [
      "<class 'pandas.core.frame.DataFrame'>\n",
      "Int64Index: 11139 entries, 0 to 11138\n",
      "Columns: 134 entries, Assay_Id to V905\n",
      "dtypes: float64(13), int64(121)\n",
      "memory usage: 11.5 MB\n"
     ]
    }
   ],
   "source": [
    "X_test.info()"
   ]
  },
  {
   "cell_type": "code",
   "execution_count": 31,
   "id": "innocent-affairs",
   "metadata": {
    "execution": {
     "iopub.execute_input": "2021-04-12T14:16:45.335073Z",
     "iopub.status.busy": "2021-04-12T14:16:45.334389Z",
     "iopub.status.idle": "2021-04-12T14:16:49.028702Z",
     "shell.execute_reply": "2021-04-12T14:16:49.029277Z"
    },
    "papermill": {
     "duration": 3.738475,
     "end_time": "2021-04-12T14:16:49.029481",
     "exception": false,
     "start_time": "2021-04-12T14:16:45.291006",
     "status": "completed"
    },
    "tags": []
   },
   "outputs": [],
   "source": [
    "from imblearn.over_sampling import SMOTE\n",
    "\n",
    "smote=SMOTE(random_state=10)\n",
    "X_train_smote,Y_train_smote=smote.fit_resample(X_train,Y_train)"
   ]
  },
  {
   "cell_type": "code",
   "execution_count": 32,
   "id": "matched-congress",
   "metadata": {
    "execution": {
     "iopub.execute_input": "2021-04-12T14:16:49.111928Z",
     "iopub.status.busy": "2021-04-12T14:16:49.111242Z",
     "iopub.status.idle": "2021-04-12T14:16:49.632561Z",
     "shell.execute_reply": "2021-04-12T14:16:49.631973Z"
    },
    "papermill": {
     "duration": 0.563575,
     "end_time": "2021-04-12T14:16:49.632722",
     "exception": false,
     "start_time": "2021-04-12T14:16:49.069147",
     "status": "completed"
    },
    "tags": []
   },
   "outputs": [],
   "source": [
    "from sklearn.preprocessing import StandardScaler\n",
    "scaler = StandardScaler()  \n",
    "scaler.fit(X_train_smote)  \n",
    "X_train_smote = scaler.transform(X_train_smote)  \n",
    "# apply same transformation to test data\n",
    "X_test = scaler.transform(X_test) "
   ]
  },
  {
   "cell_type": "code",
   "execution_count": 33,
   "id": "matched-delicious",
   "metadata": {
    "execution": {
     "iopub.execute_input": "2021-04-12T14:16:49.718140Z",
     "iopub.status.busy": "2021-04-12T14:16:49.717298Z",
     "iopub.status.idle": "2021-04-12T14:16:50.043641Z",
     "shell.execute_reply": "2021-04-12T14:16:50.042999Z"
    },
    "papermill": {
     "duration": 0.371567,
     "end_time": "2021-04-12T14:16:50.043811",
     "exception": false,
     "start_time": "2021-04-12T14:16:49.672244",
     "status": "completed"
    },
    "tags": []
   },
   "outputs": [],
   "source": [
    "from sklearn.ensemble import BaggingClassifier\n",
    "from sklearn.ensemble import GradientBoostingClassifier\n",
    "from sklearn.ensemble import RandomForestClassifier\n",
    "from sklearn.ensemble import AdaBoostClassifier\n",
    "from sklearn.ensemble import ExtraTreesClassifier\n",
    "from xgboost import XGBClassifier\n",
    "from sklearn.neural_network import MLPClassifier\n",
    "from sklearn.svm import SVC\n",
    "\n",
    "\n",
    "#clf = MLPClassifier(hidden_layer_sizes=(8,8,8), activation='relu', solver='adam', max_iter=500)\n",
    " \n",
    "clf=XGBClassifier(max_depth=7,n_estimators=665)\n",
    "#clf=XGBClassifier(Learning_rate=0.1,booster='gbtree',gamma=1.4,max_depth=8,random_state=0,n_estimators=400)\n"
   ]
  },
  {
   "cell_type": "code",
   "execution_count": 34,
   "id": "raised-vegetable",
   "metadata": {
    "execution": {
     "iopub.execute_input": "2021-04-12T14:16:50.127605Z",
     "iopub.status.busy": "2021-04-12T14:16:50.126919Z",
     "iopub.status.idle": "2021-04-12T14:16:50.131505Z",
     "shell.execute_reply": "2021-04-12T14:16:50.132048Z"
    },
    "papermill": {
     "duration": 0.048492,
     "end_time": "2021-04-12T14:16:50.132221",
     "exception": false,
     "start_time": "2021-04-12T14:16:50.083729",
     "status": "completed"
    },
    "tags": []
   },
   "outputs": [],
   "source": [
    "from sklearn.model_selection import RandomizedSearchCV\n",
    "from scipy import stats\n",
    "from scipy.stats import randint\n",
    "from sklearn.metrics import precision_score,recall_score,accuracy_score,f1_score,roc_auc_score\n",
    "#clf_xgb=XGBClassifier(objective='binary:logistic')\n",
    "#param_dist={'n_estimators': stats.randint(150,1000),\n",
    " #          'learning_rate': stats.uniform(0.01,0.6),\n",
    "  #         'subsample':stats.uniform(0.3,0.9),\n",
    "   #         'max_depth':[3,4,5,6,7,8,9],\n",
    "    #        'colsample_bytree': stats.uniform(0.5,0.9),\n",
    "     #       'min_child_weight': [1,2,3,4]\n",
    "      #     }\n",
    "#clf=RandomizedSearchCV(clf_xgb,param_distributions=param_dist,n_iter=25,verbose=3,n_jobs=-1)\n"
   ]
  },
  {
   "cell_type": "code",
   "execution_count": 35,
   "id": "adaptive-greece",
   "metadata": {
    "execution": {
     "iopub.execute_input": "2021-04-12T14:16:50.213630Z",
     "iopub.status.busy": "2021-04-12T14:16:50.212953Z",
     "iopub.status.idle": "2021-04-12T14:16:50.218134Z",
     "shell.execute_reply": "2021-04-12T14:16:50.217587Z"
    },
    "papermill": {
     "duration": 0.046893,
     "end_time": "2021-04-12T14:16:50.218282",
     "exception": false,
     "start_time": "2021-04-12T14:16:50.171389",
     "status": "completed"
    },
    "tags": []
   },
   "outputs": [],
   "source": [
    "#clf=clf.fit(X_train_smote,Y_train_smote)"
   ]
  },
  {
   "cell_type": "code",
   "execution_count": 36,
   "id": "contemporary-lingerie",
   "metadata": {
    "execution": {
     "iopub.execute_input": "2021-04-12T14:16:50.301764Z",
     "iopub.status.busy": "2021-04-12T14:16:50.301005Z",
     "iopub.status.idle": "2021-04-12T14:16:50.304805Z",
     "shell.execute_reply": "2021-04-12T14:16:50.304249Z"
    },
    "papermill": {
     "duration": 0.04721,
     "end_time": "2021-04-12T14:16:50.304956",
     "exception": false,
     "start_time": "2021-04-12T14:16:50.257746",
     "status": "completed"
    },
    "tags": []
   },
   "outputs": [],
   "source": [
    "#best_score=clf.best_score_\n",
    "#print(\"Best Score: {}\".format(best_score))"
   ]
  },
  {
   "cell_type": "code",
   "execution_count": 37,
   "id": "clean-nerve",
   "metadata": {
    "execution": {
     "iopub.execute_input": "2021-04-12T14:16:50.388697Z",
     "iopub.status.busy": "2021-04-12T14:16:50.387976Z",
     "iopub.status.idle": "2021-04-12T14:16:50.391569Z",
     "shell.execute_reply": "2021-04-12T14:16:50.392067Z"
    },
    "papermill": {
     "duration": 0.048125,
     "end_time": "2021-04-12T14:16:50.392246",
     "exception": false,
     "start_time": "2021-04-12T14:16:50.344121",
     "status": "completed"
    },
    "tags": []
   },
   "outputs": [],
   "source": [
    "#best_params=clf.best_params_\n",
    "#print(\"Best params:\")\n",
    "#for param_name in sorted(best_params.key()):\n",
    "   # print('%s: %r' %(param_name,best_params[param_name]))"
   ]
  },
  {
   "cell_type": "code",
   "execution_count": 38,
   "id": "biological-plenty",
   "metadata": {
    "execution": {
     "iopub.execute_input": "2021-04-12T14:16:50.477272Z",
     "iopub.status.busy": "2021-04-12T14:16:50.476149Z",
     "iopub.status.idle": "2021-04-12T14:21:02.824667Z",
     "shell.execute_reply": "2021-04-12T14:21:02.825303Z"
    },
    "papermill": {
     "duration": 252.39357,
     "end_time": "2021-04-12T14:21:02.825560",
     "exception": false,
     "start_time": "2021-04-12T14:16:50.431990",
     "status": "completed"
    },
    "tags": []
   },
   "outputs": [
    {
     "name": "stderr",
     "output_type": "stream",
     "text": [
      "/opt/conda/lib/python3.7/site-packages/xgboost/sklearn.py:888: UserWarning: The use of label encoder in XGBClassifier is deprecated and will be removed in a future release. To remove this warning, do the following: 1) Pass option use_label_encoder=False when constructing XGBClassifier object; and 2) Encode your labels (y) as integers starting with 0, i.e. 0, 1, 2, ..., [num_class - 1].\n",
      "  warnings.warn(label_encoder_deprecation_msg, UserWarning)\n"
     ]
    },
    {
     "name": "stdout",
     "output_type": "stream",
     "text": [
      "[14:16:51] WARNING: ../src/learner.cc:1061: Starting in XGBoost 1.3.0, the default evaluation metric used with the objective 'binary:logistic' was changed from 'error' to 'logloss'. Explicitly set eval_metric if you'd like to restore the old behavior.\n"
     ]
    }
   ],
   "source": [
    "clf.fit(X_train_smote,Y_train_smote)\n",
    "pred=clf.predict(X_test)"
   ]
  },
  {
   "cell_type": "code",
   "execution_count": 39,
   "id": "downtown-beverage",
   "metadata": {
    "execution": {
     "iopub.execute_input": "2021-04-12T14:21:02.915552Z",
     "iopub.status.busy": "2021-04-12T14:21:02.914860Z",
     "iopub.status.idle": "2021-04-12T14:21:02.917676Z",
     "shell.execute_reply": "2021-04-12T14:21:02.918113Z"
    },
    "papermill": {
     "duration": 0.049724,
     "end_time": "2021-04-12T14:21:02.918289",
     "exception": false,
     "start_time": "2021-04-12T14:21:02.868565",
     "status": "completed"
    },
    "tags": []
   },
   "outputs": [
    {
     "data": {
      "text/plain": [
       "0    2\n",
       "1    2\n",
       "2    2\n",
       "3    2\n",
       "4    2\n",
       "Name: Expected, dtype: int64"
      ]
     },
     "execution_count": 39,
     "metadata": {},
     "output_type": "execute_result"
    }
   ],
   "source": [
    "Y_train_smote.head()\n"
   ]
  },
  {
   "cell_type": "code",
   "execution_count": 40,
   "id": "indian-migration",
   "metadata": {
    "execution": {
     "iopub.execute_input": "2021-04-12T14:21:03.002977Z",
     "iopub.status.busy": "2021-04-12T14:21:03.002103Z",
     "iopub.status.idle": "2021-04-12T14:21:04.481013Z",
     "shell.execute_reply": "2021-04-12T14:21:04.481680Z"
    },
    "papermill": {
     "duration": 1.523386,
     "end_time": "2021-04-12T14:21:04.481872",
     "exception": false,
     "start_time": "2021-04-12T14:21:02.958486",
     "status": "completed"
    },
    "tags": []
   },
   "outputs": [
    {
     "data": {
      "text/plain": [
       "0.992285134220618"
      ]
     },
     "execution_count": 40,
     "metadata": {},
     "output_type": "execute_result"
    }
   ],
   "source": [
    "clf.score(X_train_smote,Y_train_smote)"
   ]
  },
  {
   "cell_type": "code",
   "execution_count": 41,
   "id": "private-giving",
   "metadata": {
    "execution": {
     "iopub.execute_input": "2021-04-12T14:21:04.570638Z",
     "iopub.status.busy": "2021-04-12T14:21:04.569708Z",
     "iopub.status.idle": "2021-04-12T14:21:04.688176Z",
     "shell.execute_reply": "2021-04-12T14:21:04.689140Z"
    },
    "papermill": {
     "duration": 0.165494,
     "end_time": "2021-04-12T14:21:04.689353",
     "exception": false,
     "start_time": "2021-04-12T14:21:04.523859",
     "status": "completed"
    },
    "tags": []
   },
   "outputs": [
    {
     "data": {
      "text/plain": [
       "array([2, 2, 2, ..., 2, 2, 2])"
      ]
     },
     "execution_count": 41,
     "metadata": {},
     "output_type": "execute_result"
    }
   ],
   "source": [
    "sub_test_pred=clf.predict(X_test).astype(int)\n",
    "sub_test_pred"
   ]
  },
  {
   "cell_type": "code",
   "execution_count": 42,
   "id": "limiting-mystery",
   "metadata": {
    "execution": {
     "iopub.execute_input": "2021-04-12T14:21:04.781206Z",
     "iopub.status.busy": "2021-04-12T14:21:04.780168Z",
     "iopub.status.idle": "2021-04-12T14:58:36.998596Z",
     "shell.execute_reply": "2021-04-12T14:58:36.999115Z"
    },
    "papermill": {
     "duration": 2252.26632,
     "end_time": "2021-04-12T14:58:36.999304",
     "exception": false,
     "start_time": "2021-04-12T14:21:04.732984",
     "status": "completed"
    },
    "tags": []
   },
   "outputs": [
    {
     "name": "stderr",
     "output_type": "stream",
     "text": [
      "/opt/conda/lib/python3.7/site-packages/xgboost/sklearn.py:888: UserWarning: The use of label encoder in XGBClassifier is deprecated and will be removed in a future release. To remove this warning, do the following: 1) Pass option use_label_encoder=False when constructing XGBClassifier object; and 2) Encode your labels (y) as integers starting with 0, i.e. 0, 1, 2, ..., [num_class - 1].\n",
      "  warnings.warn(label_encoder_deprecation_msg, UserWarning)\n"
     ]
    },
    {
     "name": "stdout",
     "output_type": "stream",
     "text": [
      "[14:21:05] WARNING: ../src/learner.cc:1061: Starting in XGBoost 1.3.0, the default evaluation metric used with the objective 'binary:logistic' was changed from 'error' to 'logloss'. Explicitly set eval_metric if you'd like to restore the old behavior.\n"
     ]
    },
    {
     "name": "stderr",
     "output_type": "stream",
     "text": [
      "/opt/conda/lib/python3.7/site-packages/xgboost/sklearn.py:888: UserWarning: The use of label encoder in XGBClassifier is deprecated and will be removed in a future release. To remove this warning, do the following: 1) Pass option use_label_encoder=False when constructing XGBClassifier object; and 2) Encode your labels (y) as integers starting with 0, i.e. 0, 1, 2, ..., [num_class - 1].\n",
      "  warnings.warn(label_encoder_deprecation_msg, UserWarning)\n"
     ]
    },
    {
     "name": "stdout",
     "output_type": "stream",
     "text": [
      "[14:24:51] WARNING: ../src/learner.cc:1061: Starting in XGBoost 1.3.0, the default evaluation metric used with the objective 'binary:logistic' was changed from 'error' to 'logloss'. Explicitly set eval_metric if you'd like to restore the old behavior.\n"
     ]
    },
    {
     "name": "stderr",
     "output_type": "stream",
     "text": [
      "/opt/conda/lib/python3.7/site-packages/xgboost/sklearn.py:888: UserWarning: The use of label encoder in XGBClassifier is deprecated and will be removed in a future release. To remove this warning, do the following: 1) Pass option use_label_encoder=False when constructing XGBClassifier object; and 2) Encode your labels (y) as integers starting with 0, i.e. 0, 1, 2, ..., [num_class - 1].\n",
      "  warnings.warn(label_encoder_deprecation_msg, UserWarning)\n"
     ]
    },
    {
     "name": "stdout",
     "output_type": "stream",
     "text": [
      "[14:28:37] WARNING: ../src/learner.cc:1061: Starting in XGBoost 1.3.0, the default evaluation metric used with the objective 'binary:logistic' was changed from 'error' to 'logloss'. Explicitly set eval_metric if you'd like to restore the old behavior.\n"
     ]
    },
    {
     "name": "stderr",
     "output_type": "stream",
     "text": [
      "/opt/conda/lib/python3.7/site-packages/xgboost/sklearn.py:888: UserWarning: The use of label encoder in XGBClassifier is deprecated and will be removed in a future release. To remove this warning, do the following: 1) Pass option use_label_encoder=False when constructing XGBClassifier object; and 2) Encode your labels (y) as integers starting with 0, i.e. 0, 1, 2, ..., [num_class - 1].\n",
      "  warnings.warn(label_encoder_deprecation_msg, UserWarning)\n"
     ]
    },
    {
     "name": "stdout",
     "output_type": "stream",
     "text": [
      "[14:32:22] WARNING: ../src/learner.cc:1061: Starting in XGBoost 1.3.0, the default evaluation metric used with the objective 'binary:logistic' was changed from 'error' to 'logloss'. Explicitly set eval_metric if you'd like to restore the old behavior.\n"
     ]
    },
    {
     "name": "stderr",
     "output_type": "stream",
     "text": [
      "/opt/conda/lib/python3.7/site-packages/xgboost/sklearn.py:888: UserWarning: The use of label encoder in XGBClassifier is deprecated and will be removed in a future release. To remove this warning, do the following: 1) Pass option use_label_encoder=False when constructing XGBClassifier object; and 2) Encode your labels (y) as integers starting with 0, i.e. 0, 1, 2, ..., [num_class - 1].\n",
      "  warnings.warn(label_encoder_deprecation_msg, UserWarning)\n"
     ]
    },
    {
     "name": "stdout",
     "output_type": "stream",
     "text": [
      "[14:36:07] WARNING: ../src/learner.cc:1061: Starting in XGBoost 1.3.0, the default evaluation metric used with the objective 'binary:logistic' was changed from 'error' to 'logloss'. Explicitly set eval_metric if you'd like to restore the old behavior.\n"
     ]
    },
    {
     "name": "stderr",
     "output_type": "stream",
     "text": [
      "/opt/conda/lib/python3.7/site-packages/xgboost/sklearn.py:888: UserWarning: The use of label encoder in XGBClassifier is deprecated and will be removed in a future release. To remove this warning, do the following: 1) Pass option use_label_encoder=False when constructing XGBClassifier object; and 2) Encode your labels (y) as integers starting with 0, i.e. 0, 1, 2, ..., [num_class - 1].\n",
      "  warnings.warn(label_encoder_deprecation_msg, UserWarning)\n"
     ]
    },
    {
     "name": "stdout",
     "output_type": "stream",
     "text": [
      "[14:39:50] WARNING: ../src/learner.cc:1061: Starting in XGBoost 1.3.0, the default evaluation metric used with the objective 'binary:logistic' was changed from 'error' to 'logloss'. Explicitly set eval_metric if you'd like to restore the old behavior.\n"
     ]
    },
    {
     "name": "stderr",
     "output_type": "stream",
     "text": [
      "/opt/conda/lib/python3.7/site-packages/xgboost/sklearn.py:888: UserWarning: The use of label encoder in XGBClassifier is deprecated and will be removed in a future release. To remove this warning, do the following: 1) Pass option use_label_encoder=False when constructing XGBClassifier object; and 2) Encode your labels (y) as integers starting with 0, i.e. 0, 1, 2, ..., [num_class - 1].\n",
      "  warnings.warn(label_encoder_deprecation_msg, UserWarning)\n"
     ]
    },
    {
     "name": "stdout",
     "output_type": "stream",
     "text": [
      "[14:43:36] WARNING: ../src/learner.cc:1061: Starting in XGBoost 1.3.0, the default evaluation metric used with the objective 'binary:logistic' was changed from 'error' to 'logloss'. Explicitly set eval_metric if you'd like to restore the old behavior.\n"
     ]
    },
    {
     "name": "stderr",
     "output_type": "stream",
     "text": [
      "/opt/conda/lib/python3.7/site-packages/xgboost/sklearn.py:888: UserWarning: The use of label encoder in XGBClassifier is deprecated and will be removed in a future release. To remove this warning, do the following: 1) Pass option use_label_encoder=False when constructing XGBClassifier object; and 2) Encode your labels (y) as integers starting with 0, i.e. 0, 1, 2, ..., [num_class - 1].\n",
      "  warnings.warn(label_encoder_deprecation_msg, UserWarning)\n"
     ]
    },
    {
     "name": "stdout",
     "output_type": "stream",
     "text": [
      "[14:47:22] WARNING: ../src/learner.cc:1061: Starting in XGBoost 1.3.0, the default evaluation metric used with the objective 'binary:logistic' was changed from 'error' to 'logloss'. Explicitly set eval_metric if you'd like to restore the old behavior.\n"
     ]
    },
    {
     "name": "stderr",
     "output_type": "stream",
     "text": [
      "/opt/conda/lib/python3.7/site-packages/xgboost/sklearn.py:888: UserWarning: The use of label encoder in XGBClassifier is deprecated and will be removed in a future release. To remove this warning, do the following: 1) Pass option use_label_encoder=False when constructing XGBClassifier object; and 2) Encode your labels (y) as integers starting with 0, i.e. 0, 1, 2, ..., [num_class - 1].\n",
      "  warnings.warn(label_encoder_deprecation_msg, UserWarning)\n"
     ]
    },
    {
     "name": "stdout",
     "output_type": "stream",
     "text": [
      "[14:51:05] WARNING: ../src/learner.cc:1061: Starting in XGBoost 1.3.0, the default evaluation metric used with the objective 'binary:logistic' was changed from 'error' to 'logloss'. Explicitly set eval_metric if you'd like to restore the old behavior.\n"
     ]
    },
    {
     "name": "stderr",
     "output_type": "stream",
     "text": [
      "/opt/conda/lib/python3.7/site-packages/xgboost/sklearn.py:888: UserWarning: The use of label encoder in XGBClassifier is deprecated and will be removed in a future release. To remove this warning, do the following: 1) Pass option use_label_encoder=False when constructing XGBClassifier object; and 2) Encode your labels (y) as integers starting with 0, i.e. 0, 1, 2, ..., [num_class - 1].\n",
      "  warnings.warn(label_encoder_deprecation_msg, UserWarning)\n"
     ]
    },
    {
     "name": "stdout",
     "output_type": "stream",
     "text": [
      "[14:54:52] WARNING: ../src/learner.cc:1061: Starting in XGBoost 1.3.0, the default evaluation metric used with the objective 'binary:logistic' was changed from 'error' to 'logloss'. Explicitly set eval_metric if you'd like to restore the old behavior.\n",
      "              precision    recall  f1-score   support\n",
      "\n",
      "           1       0.96      0.92      0.94     66495\n",
      "           2       0.92      0.96      0.94     66495\n",
      "\n",
      "    accuracy                           0.94    132990\n",
      "   macro avg       0.94      0.94      0.94    132990\n",
      "weighted avg       0.94      0.94      0.94    132990\n",
      "\n"
     ]
    }
   ],
   "source": [
    "from sklearn.metrics import classification_report\n",
    "from sklearn.model_selection import cross_val_predict\n",
    "predictions = cross_val_predict(clf, X_train_smote, Y_train_smote, cv = 10)\n",
    "print(classification_report(Y_train_smote,predictions))"
   ]
  },
  {
   "cell_type": "code",
   "execution_count": 43,
   "id": "potential-construction",
   "metadata": {
    "execution": {
     "iopub.execute_input": "2021-04-12T14:58:37.101985Z",
     "iopub.status.busy": "2021-04-12T14:58:37.101312Z",
     "iopub.status.idle": "2021-04-12T14:58:37.147459Z",
     "shell.execute_reply": "2021-04-12T14:58:37.148026Z"
    },
    "papermill": {
     "duration": 0.100056,
     "end_time": "2021-04-12T14:58:37.148206",
     "exception": false,
     "start_time": "2021-04-12T14:58:37.048150",
     "status": "completed"
    },
    "tags": []
   },
   "outputs": [
    {
     "name": "stdout",
     "output_type": "stream",
     "text": [
      "Submission was succesfull\n"
     ]
    }
   ],
   "source": [
    "output=pd.DataFrame({'Id': test_mapping[\"Chemical_Id\"].str.cat(test_mapping.Assay_Id.map(str),sep=\";\"),'predicted': sub_test_pred})\n",
    "output.to_csv(\"my.submission.csv\",index=False)\n",
    "print(\"Submission was succesfull\")"
   ]
  }
 ],
 "metadata": {
  "kernelspec": {
   "display_name": "Python 3",
   "language": "python",
   "name": "python3"
  },
  "language_info": {
   "codemirror_mode": {
    "name": "ipython",
    "version": 3
   },
   "file_extension": ".py",
   "mimetype": "text/x-python",
   "name": "python",
   "nbconvert_exporter": "python",
   "pygments_lexer": "ipython3",
   "version": "3.7.9"
  },
  "papermill": {
   "default_parameters": {},
   "duration": 2530.916079,
   "end_time": "2021-04-12T14:58:37.908894",
   "environment_variables": {},
   "exception": null,
   "input_path": "__notebook__.ipynb",
   "output_path": "__notebook__.ipynb",
   "parameters": {},
   "start_time": "2021-04-12T14:16:26.992815",
   "version": "2.3.2"
  }
 },
 "nbformat": 4,
 "nbformat_minor": 5
}
